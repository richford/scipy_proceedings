{
 "cells": [
  {
   "cell_type": "code",
   "execution_count": null,
   "metadata": {},
   "outputs": [],
   "source": [
    "def mri_pipeline(subject):\n",
    "    import numpy as np\n",
    "    import os.path as op\n",
    "    import AFQ.data as afd\n",
    "    import nibabel as nib\n",
    "    import dipy.reconst.dti as dti\n",
    "    from dipy.core.gradients import gradient_table    \n",
    "    from dipy.segment.mask import median_otsu\n",
    "    from dipy.denoise import nlmeans\n",
    "    from dipy.denoise.noise_estimate import estimate_sigma\n",
    "    # This grabs the data from HCP:\n",
    "    print(\"Fetching HCP data\")\n",
    "    data_dict = afd.fetch_hcp([int(subject)])\n",
    "\n",
    "    home = op.expanduser('~')\n",
    "    gtab = gradient_table(\n",
    "        op.join(home, 'AFQ_data/HCP/sub-%d/sess-01/dwi/sub-%d_dwi.bval'%(subject, subject)), \n",
    "        op.join(home, 'AFQ_data/HCP/sub-%d/sess-01/dwi/sub-%d_dwi.bvec'%(subject, subject)),\n",
    "        b0_threshold=10)\n",
    "    \n",
    "    print(\"Loading data from disk\")\n",
    "    img = nib.load(\n",
    "        op.join(home, 'AFQ_data/HCP/sub-%d/sess-01/dwi/sub-%d_dwi.nii.gz'%(subject, subject)))\n",
    "    data = img.get_data()\n",
    "    b0 = np.mean(data[..., gtab.b0s_mask], -1)\n",
    "    print(\"Generating the mask\")\n",
    "    if not op.exists('./mask.nii.gz'):\n",
    "        _, mask = median_otsu(b0, 4, 2, False, dilate=1)\n",
    "        nib.save(nib.Nifti1Image(mask.astype(int), img.affine), './mask.nii.gz')\n",
    "\n",
    "    # Denoise\n",
    "    print(\"Denoising\")\n",
    "    if not op.exists('./denoised_data.nii.gz'):\n",
    "        sigma = estimate_sigma(data)\n",
    "        denoised_data = nlmeans.nlmeans(data, sigma=sigma, mask=mask)\n",
    "        nib.save(nib.Nifti1Image(denoised_data, img.affine), './denoised_data.nii.gz')\n",
    "    \n",
    "    #Tensor model\n",
    "    print(\"Fitting the Tensor model\")\n",
    "    ten_model = dti.TensorModel(gtab)\n",
    "    ten_fit = ten_model.fit(denoised_data, mask=mask)\n",
    "    nib.save(nib.Nifti1Image(ten_fit.fa, img.affine), 'dti_fa.nii.gz')\n",
    "    nib.save(nib.Nifti1Image(ten_fit.md, img.affine), 'dti_md.nii.gz')\n",
    "    return ten_fit.fa"
   ]
  },
  {
   "cell_type": "code",
   "execution_count": 2,
   "metadata": {},
   "outputs": [],
   "source": [
    "import numpy as np"
   ]
  },
  {
   "cell_type": "code",
   "execution_count": 68,
   "metadata": {},
   "outputs": [],
   "source": [
    "subjects = np.loadtxt('./subjectids.txt')"
   ]
  },
  {
   "cell_type": "code",
   "execution_count": 69,
   "metadata": {},
   "outputs": [
    {
     "data": {
      "text/plain": [
       "25"
      ]
     },
     "execution_count": 69,
     "metadata": {},
     "output_type": "execute_result"
    }
   ],
   "source": [
    "len(subjects)"
   ]
  },
  {
   "cell_type": "code",
   "execution_count": 70,
   "metadata": {},
   "outputs": [],
   "source": [
    "import cloudknot as ck"
   ]
  },
  {
   "cell_type": "code",
   "execution_count": 6,
   "metadata": {},
   "outputs": [],
   "source": [
    "github_installs=(\"https://github.com/yeatmanlab/pyAFQ.git\")\n",
    "my_image = ck.DockerImage(func=mri_pipeline, \n",
    "                          base_image='cloudknot/mri_pipeline:hcp', \n",
    "                          github_installs=github_installs)\n"
   ]
  },
  {
   "cell_type": "code",
   "execution_count": 7,
   "metadata": {},
   "outputs": [],
   "source": [
    "knot = ck.Knot(name=\"benchmark_mri_pipeline\", \n",
    "               docker_image=my_image,\n",
    "               resource_type = \"SPOT\",\n",
    "               memory = 32000,\n",
    "               bid_percentage=100)"
   ]
  },
  {
   "cell_type": "code",
   "execution_count": 71,
   "metadata": {},
   "outputs": [],
   "source": [
    "results = knot.map(subjects)"
   ]
  },
  {
   "cell_type": "code",
   "execution_count": 72,
   "metadata": {},
   "outputs": [],
   "source": [
    "jj = knot.jobs[0]"
   ]
  },
  {
   "cell_type": "code",
   "execution_count": 73,
   "metadata": {},
   "outputs": [
    {
     "data": {
      "text/plain": [
       "{'status': 'FAILED',\n",
       " 'statusReason': 'Array Child Job failed',\n",
       " 'attempts': [],\n",
       " 'arrayProperties': {'statusSummary': {'STARTING': 0,\n",
       "   'FAILED': 1,\n",
       "   'RUNNING': 0,\n",
       "   'SUCCEEDED': 24,\n",
       "   'RUNNABLE': 0,\n",
       "   'SUBMITTED': 0,\n",
       "   'PENDING': 0},\n",
       "  'size': 25}}"
      ]
     },
     "execution_count": 73,
     "metadata": {},
     "output_type": "execute_result"
    }
   ],
   "source": [
    "jj.status"
   ]
  },
  {
   "cell_type": "code",
   "execution_count": 11,
   "metadata": {},
   "outputs": [],
   "source": [
    "# knot.clobber()"
   ]
  },
  {
   "cell_type": "code",
   "execution_count": 12,
   "metadata": {},
   "outputs": [],
   "source": [
    "# results.exception()"
   ]
  },
  {
   "cell_type": "code",
   "execution_count": null,
   "metadata": {},
   "outputs": [],
   "source": []
  }
 ],
 "metadata": {
  "kernelspec": {
   "display_name": "Python 3",
   "language": "python",
   "name": "python3"
  },
  "language_info": {
   "codemirror_mode": {
    "name": "ipython",
    "version": 3
   },
   "file_extension": ".py",
   "mimetype": "text/x-python",
   "name": "python",
   "nbconvert_exporter": "python",
   "pygments_lexer": "ipython3",
   "version": "3.6.4"
  }
 },
 "nbformat": 4,
 "nbformat_minor": 2
}
